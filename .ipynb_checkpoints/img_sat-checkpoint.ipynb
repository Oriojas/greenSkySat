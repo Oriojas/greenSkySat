{
 "cells": [
  {
   "cell_type": "markdown",
   "id": "24dc0f83",
   "metadata": {},
   "source": [
    "# Satelital images"
   ]
  },
  {
   "cell_type": "markdown",
   "id": "db36bc70",
   "metadata": {},
   "source": [
    "https://ecology.ghislainv.fr/forestatrisk/notebooks/country_data/country_data.html"
   ]
  },
  {
   "cell_type": "markdown",
   "id": "971cf0cd",
   "metadata": {},
   "source": [
    "## Dependences"
   ]
  },
  {
   "cell_type": "code",
   "execution_count": 1,
   "id": "b274ef3a",
   "metadata": {},
   "outputs": [
    {
     "name": "stdout",
     "output_type": "stream",
     "text": [
      "Collecting pywdpa\n",
      "  Using cached pywdpa-0.1.5-py2.py3-none-any.whl (20 kB)\n",
      "Collecting sklearn\n",
      "  Using cached sklearn-0.0-py2.py3-none-any.whl\n",
      "Requirement already satisfied: gdal in /home/oscar/.conda/envs/conda-far/lib/python3.9/site-packages (from pywdpa) (3.5.2)\n",
      "Requirement already satisfied: requests in /home/oscar/.local/lib/python3.9/site-packages (from pywdpa) (2.24.0)\n",
      "Requirement already satisfied: numpy in /home/oscar/.conda/envs/conda-far/lib/python3.9/site-packages (from pywdpa) (1.23.3)\n",
      "Collecting scikit-learn\n",
      "  Downloading scikit_learn-1.1.2-cp39-cp39-manylinux_2_17_x86_64.manylinux2014_x86_64.whl (30.8 MB)\n",
      "\u001b[2K     \u001b[38;2;114;156;31m━━━━━━━━━━━━━━━━━━━━━━━━━━━━━━━━━━━━━━━\u001b[0m \u001b[32m30.8/30.8 MB\u001b[0m \u001b[31m604.9 kB/s\u001b[0m eta \u001b[36m0:00:00\u001b[0mm eta \u001b[36m0:00:01\u001b[0m[36m0:00:02\u001b[0m\n",
      "\u001b[?25hRequirement already satisfied: urllib3!=1.25.0,!=1.25.1,<1.26,>=1.21.1 in /home/oscar/.local/lib/python3.9/site-packages (from requests->pywdpa) (1.25.10)\n",
      "Requirement already satisfied: chardet<4,>=3.0.2 in /home/oscar/.local/lib/python3.9/site-packages (from requests->pywdpa) (3.0.4)\n",
      "Requirement already satisfied: certifi>=2017.4.17 in /home/oscar/.conda/envs/conda-far/lib/python3.9/site-packages (from requests->pywdpa) (2022.9.24)\n",
      "Requirement already satisfied: idna<3,>=2.5 in /home/oscar/.local/lib/python3.9/site-packages (from requests->pywdpa) (2.10)\n",
      "Collecting threadpoolctl>=2.0.0\n",
      "  Downloading threadpoolctl-3.1.0-py3-none-any.whl (14 kB)\n",
      "Collecting joblib>=1.0.0\n",
      "  Downloading joblib-1.2.0-py3-none-any.whl (297 kB)\n",
      "\u001b[2K     \u001b[38;2;114;156;31m━━━━━━━━━━━━━━━━━━━━━━━━━━━━━━━━━━━━━\u001b[0m \u001b[32m298.0/298.0 kB\u001b[0m \u001b[31m164.3 kB/s\u001b[0m eta \u001b[36m0:00:00\u001b[0mm eta \u001b[36m0:00:01\u001b[0m[36m0:00:01\u001b[0m\n",
      "\u001b[?25hRequirement already satisfied: scipy>=1.3.2 in /home/oscar/.conda/envs/conda-far/lib/python3.9/site-packages (from scikit-learn->sklearn) (1.9.1)\n",
      "Installing collected packages: threadpoolctl, joblib, scikit-learn, pywdpa, sklearn\n",
      "Successfully installed joblib-1.2.0 pywdpa-0.1.5 scikit-learn-1.1.2 sklearn-0.0 threadpoolctl-3.1.0\n",
      "Collecting forestatrisk\n",
      "  Using cached forestatrisk-1.1-cp39-cp39-manylinux_2_17_x86_64.manylinux2014_x86_64.whl (174 kB)\n",
      "Requirement already satisfied: matplotlib in /home/oscar/.local/lib/python3.9/site-packages (from forestatrisk) (3.5.2)\n",
      "Requirement already satisfied: sklearn in /home/oscar/.conda/envs/conda-far/lib/python3.9/site-packages (from forestatrisk) (0.0)\n",
      "Requirement already satisfied: pywdpa in /home/oscar/.conda/envs/conda-far/lib/python3.9/site-packages (from forestatrisk) (0.1.5)\n",
      "Requirement already satisfied: gdal in /home/oscar/.conda/envs/conda-far/lib/python3.9/site-packages (from forestatrisk) (3.5.2)\n",
      "Requirement already satisfied: pandas in /home/oscar/.conda/envs/conda-far/lib/python3.9/site-packages (from forestatrisk) (1.5.0)\n",
      "Requirement already satisfied: earthengine-api in /home/oscar/.conda/envs/conda-far/lib/python3.9/site-packages (from forestatrisk) (0.1.326)\n",
      "Requirement already satisfied: numpy in /home/oscar/.conda/envs/conda-far/lib/python3.9/site-packages (from forestatrisk) (1.23.3)\n",
      "Requirement already satisfied: patsy in /home/oscar/.conda/envs/conda-far/lib/python3.9/site-packages (from forestatrisk) (0.5.2)\n",
      "Requirement already satisfied: google-auth-httplib2>=0.0.3 in /home/oscar/.local/lib/python3.9/site-packages (from earthengine-api->forestatrisk) (0.1.0)\n",
      "Requirement already satisfied: httplib2<1dev,>=0.9.2 in /home/oscar/.local/lib/python3.9/site-packages (from earthengine-api->forestatrisk) (0.20.4)\n",
      "Requirement already satisfied: future in /home/oscar/.local/lib/python3.9/site-packages (from earthengine-api->forestatrisk) (0.18.2)\n",
      "Requirement already satisfied: google-cloud-storage in /home/oscar/.conda/envs/conda-far/lib/python3.9/site-packages (from earthengine-api->forestatrisk) (1.19.0)\n",
      "Requirement already satisfied: google-auth>=1.4.1 in /home/oscar/.local/lib/python3.9/site-packages (from earthengine-api->forestatrisk) (1.35.0)\n",
      "Requirement already satisfied: google-api-python-client<2,>=1.12.1 in /home/oscar/.local/lib/python3.9/site-packages (from earthengine-api->forestatrisk) (1.12.11)\n",
      "Requirement already satisfied: httplib2shim in /home/oscar/.local/lib/python3.9/site-packages (from earthengine-api->forestatrisk) (0.0.3)\n",
      "Requirement already satisfied: six in /home/oscar/.local/lib/python3.9/site-packages (from earthengine-api->forestatrisk) (1.15.0)\n",
      "Requirement already satisfied: pillow>=6.2.0 in /home/oscar/.local/lib/python3.9/site-packages (from matplotlib->forestatrisk) (9.1.1)\n",
      "Requirement already satisfied: pyparsing>=2.2.1 in /home/oscar/.local/lib/python3.9/site-packages (from matplotlib->forestatrisk) (3.0.9)\n",
      "Requirement already satisfied: packaging>=20.0 in /home/oscar/.local/lib/python3.9/site-packages (from matplotlib->forestatrisk) (20.9)\n",
      "Requirement already satisfied: python-dateutil>=2.7 in /home/oscar/.local/lib/python3.9/site-packages (from matplotlib->forestatrisk) (2.8.2)\n",
      "Requirement already satisfied: cycler>=0.10 in /home/oscar/.local/lib/python3.9/site-packages (from matplotlib->forestatrisk) (0.11.0)\n",
      "Requirement already satisfied: fonttools>=4.22.0 in /home/oscar/.local/lib/python3.9/site-packages (from matplotlib->forestatrisk) (4.33.3)\n",
      "Requirement already satisfied: kiwisolver>=1.0.1 in /home/oscar/.local/lib/python3.9/site-packages (from matplotlib->forestatrisk) (1.4.2)\n",
      "Requirement already satisfied: pytz>=2020.1 in /home/oscar/.local/lib/python3.9/site-packages (from pandas->forestatrisk) (2022.2.1)\n",
      "Requirement already satisfied: requests in /home/oscar/.local/lib/python3.9/site-packages (from pywdpa->forestatrisk) (2.24.0)\n",
      "Requirement already satisfied: scikit-learn in /home/oscar/.conda/envs/conda-far/lib/python3.9/site-packages (from sklearn->forestatrisk) (1.1.2)\n",
      "Requirement already satisfied: google-api-core<3dev,>=1.21.0 in /home/oscar/.conda/envs/conda-far/lib/python3.9/site-packages (from google-api-python-client<2,>=1.12.1->earthengine-api->forestatrisk) (1.25.1)\n",
      "Requirement already satisfied: uritemplate<4dev,>=3.0.0 in /home/oscar/.local/lib/python3.9/site-packages (from google-api-python-client<2,>=1.12.1->earthengine-api->forestatrisk) (3.0.1)\n",
      "Requirement already satisfied: rsa<5,>=3.1.4 in /home/oscar/.local/lib/python3.9/site-packages (from google-auth>=1.4.1->earthengine-api->forestatrisk) (4.8)\n",
      "Requirement already satisfied: setuptools>=40.3.0 in /home/oscar/.conda/envs/conda-far/lib/python3.9/site-packages (from google-auth>=1.4.1->earthengine-api->forestatrisk) (65.4.1)\n",
      "Requirement already satisfied: pyasn1-modules>=0.2.1 in /home/oscar/.local/lib/python3.9/site-packages (from google-auth>=1.4.1->earthengine-api->forestatrisk) (0.2.8)\n",
      "Requirement already satisfied: cachetools<5.0,>=2.0.0 in /home/oscar/.local/lib/python3.9/site-packages (from google-auth>=1.4.1->earthengine-api->forestatrisk) (4.2.4)\n",
      "Requirement already satisfied: google-cloud-core<2.0dev,>=1.0.3 in /home/oscar/.conda/envs/conda-far/lib/python3.9/site-packages (from google-cloud-storage->earthengine-api->forestatrisk) (1.7.1)\n",
      "Requirement already satisfied: google-resumable-media>=0.3.1 in /home/oscar/.conda/envs/conda-far/lib/python3.9/site-packages (from google-cloud-storage->earthengine-api->forestatrisk) (2.4.0)\n",
      "Requirement already satisfied: certifi in /home/oscar/.conda/envs/conda-far/lib/python3.9/site-packages (from httplib2shim->earthengine-api->forestatrisk) (2022.9.24)\n",
      "Requirement already satisfied: urllib3 in /home/oscar/.local/lib/python3.9/site-packages (from httplib2shim->earthengine-api->forestatrisk) (1.25.10)\n",
      "Requirement already satisfied: chardet<4,>=3.0.2 in /home/oscar/.local/lib/python3.9/site-packages (from requests->pywdpa->forestatrisk) (3.0.4)\n",
      "Requirement already satisfied: idna<3,>=2.5 in /home/oscar/.local/lib/python3.9/site-packages (from requests->pywdpa->forestatrisk) (2.10)\n",
      "Requirement already satisfied: scipy>=1.3.2 in /home/oscar/.conda/envs/conda-far/lib/python3.9/site-packages (from scikit-learn->sklearn->forestatrisk) (1.9.1)\n",
      "Requirement already satisfied: threadpoolctl>=2.0.0 in /home/oscar/.conda/envs/conda-far/lib/python3.9/site-packages (from scikit-learn->sklearn->forestatrisk) (3.1.0)\n",
      "Requirement already satisfied: joblib>=1.0.0 in /home/oscar/.conda/envs/conda-far/lib/python3.9/site-packages (from scikit-learn->sklearn->forestatrisk) (1.2.0)\n",
      "Requirement already satisfied: protobuf>=3.12.0 in /home/oscar/.local/lib/python3.9/site-packages (from google-api-core<3dev,>=1.21.0->google-api-python-client<2,>=1.12.1->earthengine-api->forestatrisk) (3.13.0)\n"
     ]
    },
    {
     "name": "stdout",
     "output_type": "stream",
     "text": [
      "Requirement already satisfied: googleapis-common-protos<2.0dev,>=1.6.0 in /home/oscar/.conda/envs/conda-far/lib/python3.9/site-packages (from google-api-core<3dev,>=1.21.0->google-api-python-client<2,>=1.12.1->earthengine-api->forestatrisk) (1.56.4)\n",
      "Requirement already satisfied: google-crc32c<2.0dev,>=1.0 in /home/oscar/.conda/envs/conda-far/lib/python3.9/site-packages (from google-resumable-media>=0.3.1->google-cloud-storage->earthengine-api->forestatrisk) (1.1.2)\n",
      "Requirement already satisfied: pyasn1<0.5.0,>=0.4.6 in /home/oscar/.local/lib/python3.9/site-packages (from pyasn1-modules>=0.2.1->google-auth>=1.4.1->earthengine-api->forestatrisk) (0.4.8)\n",
      "Requirement already satisfied: cffi>=1.0.0 in /home/oscar/.local/lib/python3.9/site-packages (from google-crc32c<2.0dev,>=1.0->google-resumable-media>=0.3.1->google-cloud-storage->earthengine-api->forestatrisk) (1.15.0)\n",
      "Collecting protobuf>=3.12.0\n",
      "  Downloading protobuf-4.21.7-cp37-abi3-manylinux2014_x86_64.whl (408 kB)\n",
      "\u001b[2K     \u001b[38;2;114;156;31m━━━━━━━━━━━━━━━━━━━━━━━━━━━━━━━━━━━━━\u001b[0m \u001b[32m408.4/408.4 kB\u001b[0m \u001b[31m270.1 kB/s\u001b[0m eta \u001b[36m0:00:00\u001b[0m[36m0:00:01\u001b[0m[36m0:00:01\u001b[0m:01\u001b[0m\n",
      "\u001b[?25hRequirement already satisfied: pycparser in /home/oscar/.local/lib/python3.9/site-packages (from cffi>=1.0.0->google-crc32c<2.0dev,>=1.0->google-resumable-media>=0.3.1->google-cloud-storage->earthengine-api->forestatrisk) (2.21)\n",
      "Installing collected packages: protobuf, forestatrisk\n",
      "  Attempting uninstall: protobuf\n",
      "    Found existing installation: protobuf 3.13.0\n",
      "    Uninstalling protobuf-3.13.0:\n",
      "      Successfully uninstalled protobuf-3.13.0\n",
      "\u001b[31mERROR: pip's dependency resolver does not currently take into account all the packages that are installed. This behaviour is the source of the following dependency conflicts.\n",
      "tensorboard 2.9.0 requires markdown>=2.6.8, which is not installed.\n",
      "web3 5.27.0 requires protobuf<4,>=3.10.0, but you have protobuf 4.21.7 which is incompatible.\n",
      "celo-sdk 1.0.0 requires certifi==2020.6.20, but you have certifi 2022.9.24 which is incompatible.\n",
      "celo-sdk 1.0.0 requires eth-account==0.5.2, but you have eth-account 0.5.9 which is incompatible.\n",
      "celo-sdk 1.0.0 requires eth-keys==0.3.3, but you have eth-keys 0.3.4 which is incompatible.\n",
      "celo-sdk 1.0.0 requires eth-utils==1.9.4, but you have eth-utils 1.9.5 which is incompatible.\n",
      "celo-sdk 1.0.0 requires ipfshttpclient==0.6.0.post1, but you have ipfshttpclient 0.8.0a2 which is incompatible.\n",
      "celo-sdk 1.0.0 requires protobuf==3.13.0, but you have protobuf 4.21.7 which is incompatible.\n",
      "celo-sdk 1.0.0 requires web3==5.12.0, but you have web3 5.27.0 which is incompatible.\n",
      "celo-sdk 1.0.0 requires websockets==8.1, but you have websockets 9.1 which is incompatible.\u001b[0m\u001b[31m\n",
      "\u001b[0mSuccessfully installed forestatrisk-1.1 protobuf-4.21.7\n"
     ]
    }
   ],
   "source": [
    "! pip install pywdpa sklearn # Packages not available with conda\n",
    "! pip install forestatrisk # For PyPI version"
   ]
  },
  {
   "cell_type": "code",
   "execution_count": 10,
   "id": "fbbc8002",
   "metadata": {},
   "outputs": [
    {
     "name": "stdout",
     "output_type": "stream",
     "text": [
      "Collecting python-dotenv\n",
      "  Downloading python_dotenv-0.21.0-py3-none-any.whl (18 kB)\n",
      "Installing collected packages: python-dotenv\n",
      "Successfully installed python-dotenv-0.21.0\n"
     ]
    }
   ],
   "source": [
    "! pip install python-dotenv"
   ]
  },
  {
   "cell_type": "code",
   "execution_count": 12,
   "id": "a11f577e",
   "metadata": {},
   "outputs": [],
   "source": [
    "# Imports\n",
    "import os\n",
    "\n",
    "from dotenv import load_dotenv\n",
    "import ee\n",
    "import pandas as pd\n",
    "from tabulate import tabulate\n",
    "\n",
    "from pywdpa import get_token\n",
    "import forestatrisk as far"
   ]
  },
  {
   "cell_type": "code",
   "execution_count": 13,
   "id": "8077749b",
   "metadata": {},
   "outputs": [],
   "source": [
    "far.make_dir(\"data_raw\")\n",
    "far.make_dir(\"data\")\n",
    "far.make_dir(\"output\")"
   ]
  },
  {
   "cell_type": "code",
   "execution_count": 22,
   "id": "ad3a3f71",
   "metadata": {},
   "outputs": [],
   "source": [
    "# GDAL\n",
    "os.environ[\"GDAL_CACHEMAX\"] = \"1024\"\n",
    "# WDPA API\n",
    "os.environ[\"WDPA_KEY\"] = \"your_token\""
   ]
  },
  {
   "cell_type": "raw",
   "id": "700a55c2",
   "metadata": {},
   "source": [
    "# Google heart engine\n",
    "! conda install -y -c conda-forge earthengine-api"
   ]
  },
  {
   "cell_type": "code",
   "execution_count": 20,
   "id": "79096393",
   "metadata": {},
   "outputs": [
    {
     "data": {
      "text/html": [
       "<p>To authorize access needed by Earth Engine, open the following\n",
       "        URL in a web browser and follow the instructions:</p>\n",
       "        <p><a href=https://code.earthengine.google.com/client-auth?scopes=https%3A//www.googleapis.com/auth/earthengine%20https%3A//www.googleapis.com/auth/devstorage.full_control&request_id=lEIlROW7HxEppx5QqeLF5zr-GRNdcL71T5DsU7FNhlE&tc=qLh_nZofF84Xw2laaLoGpLft-QbVtbwnBVzdA37Abyk&cc=15TggFB7t5eU0whsdk8AByO-r52PKc9rxLWNIouq_9A>https://code.earthengine.google.com/client-auth?scopes=https%3A//www.googleapis.com/auth/earthengine%20https%3A//www.googleapis.com/auth/devstorage.full_control&request_id=lEIlROW7HxEppx5QqeLF5zr-GRNdcL71T5DsU7FNhlE&tc=qLh_nZofF84Xw2laaLoGpLft-QbVtbwnBVzdA37Abyk&cc=15TggFB7t5eU0whsdk8AByO-r52PKc9rxLWNIouq_9A</a></p>\n",
       "        <p>The authorization workflow will generate a code, which you should paste in the box below.</p>\n",
       "        "
      ],
      "text/plain": [
       "<IPython.core.display.HTML object>"
      ]
     },
     "metadata": {},
     "output_type": "display_data"
    },
    {
     "name": "stdout",
     "output_type": "stream",
     "text": [
      "Abriendo en una sesión existente del navegador\n",
      "Enter verification code: 4/1ARtbsJpvV0UizSCXxZvHUxvdJPQwat1iuOzjMIDSCESOpGv_mQ7XoumoL60\n",
      "\n",
      "Successfully saved authorization token.\n"
     ]
    }
   ],
   "source": [
    "# Uncomment to authenticate for the first time.\n",
    "# ee.Authenticate()\n",
    "ee.Initialize()"
   ]
  },
  {
   "cell_type": "code",
   "execution_count": 23,
   "id": "9b47d092",
   "metadata": {},
   "outputs": [
    {
     "data": {
      "text/plain": [
       "'Invalid WDPA API token. Please ensure that:\\n1) You completed this form [https://api.protectedplanet.net/request] to get the token.\\n2) You stored the value as an environment variable with the recommended name WDPA_KEY.'"
      ]
     },
     "execution_count": 23,
     "metadata": {},
     "output_type": "execute_result"
    }
   ],
   "source": [
    "# WDPA API\n",
    "load_dotenv(\".env\")\n",
    "get_token()"
   ]
  },
  {
   "cell_type": "code",
   "execution_count": 24,
   "id": "85024aec",
   "metadata": {},
   "outputs": [],
   "source": [
    "iso3 = \"COL\""
   ]
  },
  {
   "cell_type": "code",
   "execution_count": 25,
   "id": "87b0c257",
   "metadata": {},
   "outputs": [
    {
     "ename": "URLError",
     "evalue": "<urlopen error [Errno 110] Connection timed out>",
     "output_type": "error",
     "traceback": [
      "\u001b[0;31m---------------------------------------------------------------------------\u001b[0m",
      "\u001b[0;31mTimeoutError\u001b[0m                              Traceback (most recent call last)",
      "File \u001b[0;32m~/.conda/envs/conda-far/lib/python3.9/urllib/request.py:1346\u001b[0m, in \u001b[0;36mAbstractHTTPHandler.do_open\u001b[0;34m(self, http_class, req, **http_conn_args)\u001b[0m\n\u001b[1;32m   1345\u001b[0m \u001b[38;5;28;01mtry\u001b[39;00m:\n\u001b[0;32m-> 1346\u001b[0m     \u001b[43mh\u001b[49m\u001b[38;5;241;43m.\u001b[39;49m\u001b[43mrequest\u001b[49m\u001b[43m(\u001b[49m\u001b[43mreq\u001b[49m\u001b[38;5;241;43m.\u001b[39;49m\u001b[43mget_method\u001b[49m\u001b[43m(\u001b[49m\u001b[43m)\u001b[49m\u001b[43m,\u001b[49m\u001b[43m \u001b[49m\u001b[43mreq\u001b[49m\u001b[38;5;241;43m.\u001b[39;49m\u001b[43mselector\u001b[49m\u001b[43m,\u001b[49m\u001b[43m \u001b[49m\u001b[43mreq\u001b[49m\u001b[38;5;241;43m.\u001b[39;49m\u001b[43mdata\u001b[49m\u001b[43m,\u001b[49m\u001b[43m \u001b[49m\u001b[43mheaders\u001b[49m\u001b[43m,\u001b[49m\n\u001b[1;32m   1347\u001b[0m \u001b[43m              \u001b[49m\u001b[43mencode_chunked\u001b[49m\u001b[38;5;241;43m=\u001b[39;49m\u001b[43mreq\u001b[49m\u001b[38;5;241;43m.\u001b[39;49m\u001b[43mhas_header\u001b[49m\u001b[43m(\u001b[49m\u001b[38;5;124;43m'\u001b[39;49m\u001b[38;5;124;43mTransfer-encoding\u001b[39;49m\u001b[38;5;124;43m'\u001b[39;49m\u001b[43m)\u001b[49m\u001b[43m)\u001b[49m\n\u001b[1;32m   1348\u001b[0m \u001b[38;5;28;01mexcept\u001b[39;00m \u001b[38;5;167;01mOSError\u001b[39;00m \u001b[38;5;28;01mas\u001b[39;00m err: \u001b[38;5;66;03m# timeout error\u001b[39;00m\n",
      "File \u001b[0;32m~/.conda/envs/conda-far/lib/python3.9/http/client.py:1285\u001b[0m, in \u001b[0;36mHTTPConnection.request\u001b[0;34m(self, method, url, body, headers, encode_chunked)\u001b[0m\n\u001b[1;32m   1284\u001b[0m \u001b[38;5;124;03m\"\"\"Send a complete request to the server.\"\"\"\u001b[39;00m\n\u001b[0;32m-> 1285\u001b[0m \u001b[38;5;28;43mself\u001b[39;49m\u001b[38;5;241;43m.\u001b[39;49m\u001b[43m_send_request\u001b[49m\u001b[43m(\u001b[49m\u001b[43mmethod\u001b[49m\u001b[43m,\u001b[49m\u001b[43m \u001b[49m\u001b[43murl\u001b[49m\u001b[43m,\u001b[49m\u001b[43m \u001b[49m\u001b[43mbody\u001b[49m\u001b[43m,\u001b[49m\u001b[43m \u001b[49m\u001b[43mheaders\u001b[49m\u001b[43m,\u001b[49m\u001b[43m \u001b[49m\u001b[43mencode_chunked\u001b[49m\u001b[43m)\u001b[49m\n",
      "File \u001b[0;32m~/.conda/envs/conda-far/lib/python3.9/http/client.py:1331\u001b[0m, in \u001b[0;36mHTTPConnection._send_request\u001b[0;34m(self, method, url, body, headers, encode_chunked)\u001b[0m\n\u001b[1;32m   1330\u001b[0m     body \u001b[38;5;241m=\u001b[39m _encode(body, \u001b[38;5;124m'\u001b[39m\u001b[38;5;124mbody\u001b[39m\u001b[38;5;124m'\u001b[39m)\n\u001b[0;32m-> 1331\u001b[0m \u001b[38;5;28;43mself\u001b[39;49m\u001b[38;5;241;43m.\u001b[39;49m\u001b[43mendheaders\u001b[49m\u001b[43m(\u001b[49m\u001b[43mbody\u001b[49m\u001b[43m,\u001b[49m\u001b[43m \u001b[49m\u001b[43mencode_chunked\u001b[49m\u001b[38;5;241;43m=\u001b[39;49m\u001b[43mencode_chunked\u001b[49m\u001b[43m)\u001b[49m\n",
      "File \u001b[0;32m~/.conda/envs/conda-far/lib/python3.9/http/client.py:1280\u001b[0m, in \u001b[0;36mHTTPConnection.endheaders\u001b[0;34m(self, message_body, encode_chunked)\u001b[0m\n\u001b[1;32m   1279\u001b[0m     \u001b[38;5;28;01mraise\u001b[39;00m CannotSendHeader()\n\u001b[0;32m-> 1280\u001b[0m \u001b[38;5;28;43mself\u001b[39;49m\u001b[38;5;241;43m.\u001b[39;49m\u001b[43m_send_output\u001b[49m\u001b[43m(\u001b[49m\u001b[43mmessage_body\u001b[49m\u001b[43m,\u001b[49m\u001b[43m \u001b[49m\u001b[43mencode_chunked\u001b[49m\u001b[38;5;241;43m=\u001b[39;49m\u001b[43mencode_chunked\u001b[49m\u001b[43m)\u001b[49m\n",
      "File \u001b[0;32m~/.conda/envs/conda-far/lib/python3.9/http/client.py:1040\u001b[0m, in \u001b[0;36mHTTPConnection._send_output\u001b[0;34m(self, message_body, encode_chunked)\u001b[0m\n\u001b[1;32m   1039\u001b[0m \u001b[38;5;28;01mdel\u001b[39;00m \u001b[38;5;28mself\u001b[39m\u001b[38;5;241m.\u001b[39m_buffer[:]\n\u001b[0;32m-> 1040\u001b[0m \u001b[38;5;28;43mself\u001b[39;49m\u001b[38;5;241;43m.\u001b[39;49m\u001b[43msend\u001b[49m\u001b[43m(\u001b[49m\u001b[43mmsg\u001b[49m\u001b[43m)\u001b[49m\n\u001b[1;32m   1042\u001b[0m \u001b[38;5;28;01mif\u001b[39;00m message_body \u001b[38;5;129;01mis\u001b[39;00m \u001b[38;5;129;01mnot\u001b[39;00m \u001b[38;5;28;01mNone\u001b[39;00m:\n\u001b[1;32m   1043\u001b[0m \n\u001b[1;32m   1044\u001b[0m     \u001b[38;5;66;03m# create a consistent interface to message_body\u001b[39;00m\n",
      "File \u001b[0;32m~/.conda/envs/conda-far/lib/python3.9/http/client.py:980\u001b[0m, in \u001b[0;36mHTTPConnection.send\u001b[0;34m(self, data)\u001b[0m\n\u001b[1;32m    979\u001b[0m \u001b[38;5;28;01mif\u001b[39;00m \u001b[38;5;28mself\u001b[39m\u001b[38;5;241m.\u001b[39mauto_open:\n\u001b[0;32m--> 980\u001b[0m     \u001b[38;5;28;43mself\u001b[39;49m\u001b[38;5;241;43m.\u001b[39;49m\u001b[43mconnect\u001b[49m\u001b[43m(\u001b[49m\u001b[43m)\u001b[49m\n\u001b[1;32m    981\u001b[0m \u001b[38;5;28;01melse\u001b[39;00m:\n",
      "File \u001b[0;32m~/.conda/envs/conda-far/lib/python3.9/http/client.py:946\u001b[0m, in \u001b[0;36mHTTPConnection.connect\u001b[0;34m(self)\u001b[0m\n\u001b[1;32m    945\u001b[0m \u001b[38;5;124;03m\"\"\"Connect to the host and port specified in __init__.\"\"\"\u001b[39;00m\n\u001b[0;32m--> 946\u001b[0m \u001b[38;5;28mself\u001b[39m\u001b[38;5;241m.\u001b[39msock \u001b[38;5;241m=\u001b[39m \u001b[38;5;28;43mself\u001b[39;49m\u001b[38;5;241;43m.\u001b[39;49m\u001b[43m_create_connection\u001b[49m\u001b[43m(\u001b[49m\n\u001b[1;32m    947\u001b[0m \u001b[43m    \u001b[49m\u001b[43m(\u001b[49m\u001b[38;5;28;43mself\u001b[39;49m\u001b[38;5;241;43m.\u001b[39;49m\u001b[43mhost\u001b[49m\u001b[43m,\u001b[49m\u001b[38;5;28;43mself\u001b[39;49m\u001b[38;5;241;43m.\u001b[39;49m\u001b[43mport\u001b[49m\u001b[43m)\u001b[49m\u001b[43m,\u001b[49m\u001b[43m \u001b[49m\u001b[38;5;28;43mself\u001b[39;49m\u001b[38;5;241;43m.\u001b[39;49m\u001b[43mtimeout\u001b[49m\u001b[43m,\u001b[49m\u001b[43m \u001b[49m\u001b[38;5;28;43mself\u001b[39;49m\u001b[38;5;241;43m.\u001b[39;49m\u001b[43msource_address\u001b[49m\u001b[43m)\u001b[49m\n\u001b[1;32m    948\u001b[0m \u001b[38;5;66;03m# Might fail in OSs that don't implement TCP_NODELAY\u001b[39;00m\n",
      "File \u001b[0;32m~/.conda/envs/conda-far/lib/python3.9/socket.py:844\u001b[0m, in \u001b[0;36mcreate_connection\u001b[0;34m(address, timeout, source_address)\u001b[0m\n\u001b[1;32m    843\u001b[0m \u001b[38;5;28;01mtry\u001b[39;00m:\n\u001b[0;32m--> 844\u001b[0m     \u001b[38;5;28;01mraise\u001b[39;00m err\n\u001b[1;32m    845\u001b[0m \u001b[38;5;28;01mfinally\u001b[39;00m:\n\u001b[1;32m    846\u001b[0m     \u001b[38;5;66;03m# Break explicitly a reference cycle\u001b[39;00m\n",
      "File \u001b[0;32m~/.conda/envs/conda-far/lib/python3.9/socket.py:832\u001b[0m, in \u001b[0;36mcreate_connection\u001b[0;34m(address, timeout, source_address)\u001b[0m\n\u001b[1;32m    831\u001b[0m     sock\u001b[38;5;241m.\u001b[39mbind(source_address)\n\u001b[0;32m--> 832\u001b[0m \u001b[43msock\u001b[49m\u001b[38;5;241;43m.\u001b[39;49m\u001b[43mconnect\u001b[49m\u001b[43m(\u001b[49m\u001b[43msa\u001b[49m\u001b[43m)\u001b[49m\n\u001b[1;32m    833\u001b[0m \u001b[38;5;66;03m# Break explicitly a reference cycle\u001b[39;00m\n",
      "\u001b[0;31mTimeoutError\u001b[0m: [Errno 110] Connection timed out",
      "\nDuring handling of the above exception, another exception occurred:\n",
      "\u001b[0;31mURLError\u001b[0m                                  Traceback (most recent call last)",
      "Input \u001b[0;32mIn [25]\u001b[0m, in \u001b[0;36m<cell line: 2>\u001b[0;34m()\u001b[0m\n\u001b[1;32m      1\u001b[0m \u001b[38;5;66;03m# Compute gee forest data\u001b[39;00m\n\u001b[0;32m----> 2\u001b[0m \u001b[43mfar\u001b[49m\u001b[38;5;241;43m.\u001b[39;49m\u001b[43mdata\u001b[49m\u001b[38;5;241;43m.\u001b[39;49m\u001b[43mcountry_forest_run\u001b[49m\u001b[43m(\u001b[49m\n\u001b[1;32m      3\u001b[0m \u001b[43m    \u001b[49m\u001b[43miso3\u001b[49m\u001b[43m,\u001b[49m\u001b[43m \u001b[49m\u001b[43mproj\u001b[49m\u001b[38;5;241;43m=\u001b[39;49m\u001b[38;5;124;43m\"\u001b[39;49m\u001b[38;5;124;43mEPSG:4326\u001b[39;49m\u001b[38;5;124;43m\"\u001b[39;49m\u001b[43m,\u001b[49m\n\u001b[1;32m      4\u001b[0m \u001b[43m    \u001b[49m\u001b[43moutput_dir\u001b[49m\u001b[38;5;241;43m=\u001b[39;49m\u001b[38;5;124;43m\"\u001b[39;49m\u001b[38;5;124;43mdata_raw\u001b[39;49m\u001b[38;5;124;43m\"\u001b[39;49m\u001b[43m,\u001b[49m\n\u001b[1;32m      5\u001b[0m \u001b[43m    \u001b[49m\u001b[43mkeep_dir\u001b[49m\u001b[38;5;241;43m=\u001b[39;49m\u001b[38;5;28;43;01mTrue\u001b[39;49;00m\u001b[43m,\u001b[49m\n\u001b[1;32m      6\u001b[0m \u001b[43m    \u001b[49m\u001b[43mfcc_source\u001b[49m\u001b[38;5;241;43m=\u001b[39;49m\u001b[38;5;124;43m\"\u001b[39;49m\u001b[38;5;124;43mjrc\u001b[39;49m\u001b[38;5;124;43m\"\u001b[39;49m\u001b[43m,\u001b[49m\u001b[43m \u001b[49m\u001b[43mperc\u001b[49m\u001b[38;5;241;43m=\u001b[39;49m\u001b[38;5;241;43m50\u001b[39;49m\u001b[43m,\u001b[49m\n\u001b[1;32m      7\u001b[0m \u001b[43m    \u001b[49m\u001b[43mgdrive_remote_rclone\u001b[49m\u001b[38;5;241;43m=\u001b[39;49m\u001b[38;5;124;43m\"\u001b[39;49m\u001b[38;5;124;43mgdrive_gv\u001b[39;49m\u001b[38;5;124;43m\"\u001b[39;49m\u001b[43m,\u001b[49m\n\u001b[1;32m      8\u001b[0m \u001b[43m    \u001b[49m\u001b[43mgdrive_folder\u001b[49m\u001b[38;5;241;43m=\u001b[39;49m\u001b[38;5;124;43m\"\u001b[39;49m\u001b[38;5;124;43mGEE-forestatrisk-notebooks\u001b[39;49m\u001b[38;5;124;43m\"\u001b[39;49m\u001b[43m)\u001b[49m\n",
      "File \u001b[0;32m~/.conda/envs/conda-far/lib/python3.9/site-packages/forestatrisk/build_data/data.py:139\u001b[0m, in \u001b[0;36mcountry_forest_run\u001b[0;34m(iso3, proj, output_dir, keep_dir, fcc_source, perc, gdrive_remote_rclone, gdrive_folder)\u001b[0m\n\u001b[1;32m    137\u001b[0m fname \u001b[38;5;241m=\u001b[39m output_dir \u001b[38;5;241m+\u001b[39m \u001b[38;5;124m\"\u001b[39m\u001b[38;5;124m/\u001b[39m\u001b[38;5;124m\"\u001b[39m \u001b[38;5;241m+\u001b[39m iso3 \u001b[38;5;241m+\u001b[39m \u001b[38;5;124m\"\u001b[39m\u001b[38;5;124m_shp.zip\u001b[39m\u001b[38;5;124m\"\u001b[39m\n\u001b[1;32m    138\u001b[0m url \u001b[38;5;241m=\u001b[39m \u001b[38;5;124m\"\u001b[39m\u001b[38;5;124mhttp://biogeo.ucdavis.edu/data/gadm3.6/shp/gadm36_\u001b[39m\u001b[38;5;124m\"\u001b[39m \u001b[38;5;241m+\u001b[39m iso3 \u001b[38;5;241m+\u001b[39m \u001b[38;5;124m\"\u001b[39m\u001b[38;5;124m_shp.zip\u001b[39m\u001b[38;5;124m\"\u001b[39m\n\u001b[0;32m--> 139\u001b[0m \u001b[43murlretrieve\u001b[49m\u001b[43m(\u001b[49m\u001b[43murl\u001b[49m\u001b[43m,\u001b[49m\u001b[43m \u001b[49m\u001b[43mfname\u001b[49m\u001b[43m)\u001b[49m\n\u001b[1;32m    141\u001b[0m \u001b[38;5;66;03m# Extract files from zip\u001b[39;00m\n\u001b[1;32m    142\u001b[0m destDir \u001b[38;5;241m=\u001b[39m output_dir\n",
      "File \u001b[0;32m~/.conda/envs/conda-far/lib/python3.9/urllib/request.py:239\u001b[0m, in \u001b[0;36murlretrieve\u001b[0;34m(url, filename, reporthook, data)\u001b[0m\n\u001b[1;32m    222\u001b[0m \u001b[38;5;124;03m\"\"\"\u001b[39;00m\n\u001b[1;32m    223\u001b[0m \u001b[38;5;124;03mRetrieve a URL into a temporary location on disk.\u001b[39;00m\n\u001b[1;32m    224\u001b[0m \n\u001b[0;32m   (...)\u001b[0m\n\u001b[1;32m    235\u001b[0m \u001b[38;5;124;03mdata file as well as the resulting HTTPMessage object.\u001b[39;00m\n\u001b[1;32m    236\u001b[0m \u001b[38;5;124;03m\"\"\"\u001b[39;00m\n\u001b[1;32m    237\u001b[0m url_type, path \u001b[38;5;241m=\u001b[39m _splittype(url)\n\u001b[0;32m--> 239\u001b[0m \u001b[38;5;28;01mwith\u001b[39;00m contextlib\u001b[38;5;241m.\u001b[39mclosing(\u001b[43murlopen\u001b[49m\u001b[43m(\u001b[49m\u001b[43murl\u001b[49m\u001b[43m,\u001b[49m\u001b[43m \u001b[49m\u001b[43mdata\u001b[49m\u001b[43m)\u001b[49m) \u001b[38;5;28;01mas\u001b[39;00m fp:\n\u001b[1;32m    240\u001b[0m     headers \u001b[38;5;241m=\u001b[39m fp\u001b[38;5;241m.\u001b[39minfo()\n\u001b[1;32m    242\u001b[0m     \u001b[38;5;66;03m# Just return the local path and the \"headers\" for file://\u001b[39;00m\n\u001b[1;32m    243\u001b[0m     \u001b[38;5;66;03m# URLs. No sense in performing a copy unless requested.\u001b[39;00m\n",
      "File \u001b[0;32m~/.conda/envs/conda-far/lib/python3.9/urllib/request.py:214\u001b[0m, in \u001b[0;36murlopen\u001b[0;34m(url, data, timeout, cafile, capath, cadefault, context)\u001b[0m\n\u001b[1;32m    212\u001b[0m \u001b[38;5;28;01melse\u001b[39;00m:\n\u001b[1;32m    213\u001b[0m     opener \u001b[38;5;241m=\u001b[39m _opener\n\u001b[0;32m--> 214\u001b[0m \u001b[38;5;28;01mreturn\u001b[39;00m \u001b[43mopener\u001b[49m\u001b[38;5;241;43m.\u001b[39;49m\u001b[43mopen\u001b[49m\u001b[43m(\u001b[49m\u001b[43murl\u001b[49m\u001b[43m,\u001b[49m\u001b[43m \u001b[49m\u001b[43mdata\u001b[49m\u001b[43m,\u001b[49m\u001b[43m \u001b[49m\u001b[43mtimeout\u001b[49m\u001b[43m)\u001b[49m\n",
      "File \u001b[0;32m~/.conda/envs/conda-far/lib/python3.9/urllib/request.py:517\u001b[0m, in \u001b[0;36mOpenerDirector.open\u001b[0;34m(self, fullurl, data, timeout)\u001b[0m\n\u001b[1;32m    514\u001b[0m     req \u001b[38;5;241m=\u001b[39m meth(req)\n\u001b[1;32m    516\u001b[0m sys\u001b[38;5;241m.\u001b[39maudit(\u001b[38;5;124m'\u001b[39m\u001b[38;5;124murllib.Request\u001b[39m\u001b[38;5;124m'\u001b[39m, req\u001b[38;5;241m.\u001b[39mfull_url, req\u001b[38;5;241m.\u001b[39mdata, req\u001b[38;5;241m.\u001b[39mheaders, req\u001b[38;5;241m.\u001b[39mget_method())\n\u001b[0;32m--> 517\u001b[0m response \u001b[38;5;241m=\u001b[39m \u001b[38;5;28;43mself\u001b[39;49m\u001b[38;5;241;43m.\u001b[39;49m\u001b[43m_open\u001b[49m\u001b[43m(\u001b[49m\u001b[43mreq\u001b[49m\u001b[43m,\u001b[49m\u001b[43m \u001b[49m\u001b[43mdata\u001b[49m\u001b[43m)\u001b[49m\n\u001b[1;32m    519\u001b[0m \u001b[38;5;66;03m# post-process response\u001b[39;00m\n\u001b[1;32m    520\u001b[0m meth_name \u001b[38;5;241m=\u001b[39m protocol\u001b[38;5;241m+\u001b[39m\u001b[38;5;124m\"\u001b[39m\u001b[38;5;124m_response\u001b[39m\u001b[38;5;124m\"\u001b[39m\n",
      "File \u001b[0;32m~/.conda/envs/conda-far/lib/python3.9/urllib/request.py:534\u001b[0m, in \u001b[0;36mOpenerDirector._open\u001b[0;34m(self, req, data)\u001b[0m\n\u001b[1;32m    531\u001b[0m     \u001b[38;5;28;01mreturn\u001b[39;00m result\n\u001b[1;32m    533\u001b[0m protocol \u001b[38;5;241m=\u001b[39m req\u001b[38;5;241m.\u001b[39mtype\n\u001b[0;32m--> 534\u001b[0m result \u001b[38;5;241m=\u001b[39m \u001b[38;5;28;43mself\u001b[39;49m\u001b[38;5;241;43m.\u001b[39;49m\u001b[43m_call_chain\u001b[49m\u001b[43m(\u001b[49m\u001b[38;5;28;43mself\u001b[39;49m\u001b[38;5;241;43m.\u001b[39;49m\u001b[43mhandle_open\u001b[49m\u001b[43m,\u001b[49m\u001b[43m \u001b[49m\u001b[43mprotocol\u001b[49m\u001b[43m,\u001b[49m\u001b[43m \u001b[49m\u001b[43mprotocol\u001b[49m\u001b[43m \u001b[49m\u001b[38;5;241;43m+\u001b[39;49m\n\u001b[1;32m    535\u001b[0m \u001b[43m                          \u001b[49m\u001b[38;5;124;43m'\u001b[39;49m\u001b[38;5;124;43m_open\u001b[39;49m\u001b[38;5;124;43m'\u001b[39;49m\u001b[43m,\u001b[49m\u001b[43m \u001b[49m\u001b[43mreq\u001b[49m\u001b[43m)\u001b[49m\n\u001b[1;32m    536\u001b[0m \u001b[38;5;28;01mif\u001b[39;00m result:\n\u001b[1;32m    537\u001b[0m     \u001b[38;5;28;01mreturn\u001b[39;00m result\n",
      "File \u001b[0;32m~/.conda/envs/conda-far/lib/python3.9/urllib/request.py:494\u001b[0m, in \u001b[0;36mOpenerDirector._call_chain\u001b[0;34m(self, chain, kind, meth_name, *args)\u001b[0m\n\u001b[1;32m    492\u001b[0m \u001b[38;5;28;01mfor\u001b[39;00m handler \u001b[38;5;129;01min\u001b[39;00m handlers:\n\u001b[1;32m    493\u001b[0m     func \u001b[38;5;241m=\u001b[39m \u001b[38;5;28mgetattr\u001b[39m(handler, meth_name)\n\u001b[0;32m--> 494\u001b[0m     result \u001b[38;5;241m=\u001b[39m \u001b[43mfunc\u001b[49m\u001b[43m(\u001b[49m\u001b[38;5;241;43m*\u001b[39;49m\u001b[43margs\u001b[49m\u001b[43m)\u001b[49m\n\u001b[1;32m    495\u001b[0m     \u001b[38;5;28;01mif\u001b[39;00m result \u001b[38;5;129;01mis\u001b[39;00m \u001b[38;5;129;01mnot\u001b[39;00m \u001b[38;5;28;01mNone\u001b[39;00m:\n\u001b[1;32m    496\u001b[0m         \u001b[38;5;28;01mreturn\u001b[39;00m result\n",
      "File \u001b[0;32m~/.conda/envs/conda-far/lib/python3.9/urllib/request.py:1375\u001b[0m, in \u001b[0;36mHTTPHandler.http_open\u001b[0;34m(self, req)\u001b[0m\n\u001b[1;32m   1374\u001b[0m \u001b[38;5;28;01mdef\u001b[39;00m \u001b[38;5;21mhttp_open\u001b[39m(\u001b[38;5;28mself\u001b[39m, req):\n\u001b[0;32m-> 1375\u001b[0m     \u001b[38;5;28;01mreturn\u001b[39;00m \u001b[38;5;28;43mself\u001b[39;49m\u001b[38;5;241;43m.\u001b[39;49m\u001b[43mdo_open\u001b[49m\u001b[43m(\u001b[49m\u001b[43mhttp\u001b[49m\u001b[38;5;241;43m.\u001b[39;49m\u001b[43mclient\u001b[49m\u001b[38;5;241;43m.\u001b[39;49m\u001b[43mHTTPConnection\u001b[49m\u001b[43m,\u001b[49m\u001b[43m \u001b[49m\u001b[43mreq\u001b[49m\u001b[43m)\u001b[49m\n",
      "File \u001b[0;32m~/.conda/envs/conda-far/lib/python3.9/urllib/request.py:1349\u001b[0m, in \u001b[0;36mAbstractHTTPHandler.do_open\u001b[0;34m(self, http_class, req, **http_conn_args)\u001b[0m\n\u001b[1;32m   1346\u001b[0m         h\u001b[38;5;241m.\u001b[39mrequest(req\u001b[38;5;241m.\u001b[39mget_method(), req\u001b[38;5;241m.\u001b[39mselector, req\u001b[38;5;241m.\u001b[39mdata, headers,\n\u001b[1;32m   1347\u001b[0m                   encode_chunked\u001b[38;5;241m=\u001b[39mreq\u001b[38;5;241m.\u001b[39mhas_header(\u001b[38;5;124m'\u001b[39m\u001b[38;5;124mTransfer-encoding\u001b[39m\u001b[38;5;124m'\u001b[39m))\n\u001b[1;32m   1348\u001b[0m     \u001b[38;5;28;01mexcept\u001b[39;00m \u001b[38;5;167;01mOSError\u001b[39;00m \u001b[38;5;28;01mas\u001b[39;00m err: \u001b[38;5;66;03m# timeout error\u001b[39;00m\n\u001b[0;32m-> 1349\u001b[0m         \u001b[38;5;28;01mraise\u001b[39;00m URLError(err)\n\u001b[1;32m   1350\u001b[0m     r \u001b[38;5;241m=\u001b[39m h\u001b[38;5;241m.\u001b[39mgetresponse()\n\u001b[1;32m   1351\u001b[0m \u001b[38;5;28;01mexcept\u001b[39;00m:\n",
      "\u001b[0;31mURLError\u001b[0m: <urlopen error [Errno 110] Connection timed out>"
     ]
    }
   ],
   "source": [
    "# Compute gee forest data\n",
    "far.data.country_forest_run(\n",
    "    iso3, proj=\"EPSG:4326\",\n",
    "    output_dir=\"data_raw\",\n",
    "    keep_dir=True,\n",
    "    fcc_source=\"jrc\", perc=50,\n",
    "    gdrive_remote_rclone=\"gdrive_gv\",\n",
    "    gdrive_folder=\"GEE-forestatrisk-notebooks\")"
   ]
  },
  {
   "cell_type": "code",
   "execution_count": null,
   "id": "679b0c27",
   "metadata": {},
   "outputs": [],
   "source": []
  },
  {
   "cell_type": "code",
   "execution_count": null,
   "id": "e2d707dd",
   "metadata": {},
   "outputs": [],
   "source": []
  },
  {
   "cell_type": "code",
   "execution_count": null,
   "id": "1bf1a008",
   "metadata": {},
   "outputs": [],
   "source": []
  },
  {
   "cell_type": "code",
   "execution_count": null,
   "id": "c27cf72a",
   "metadata": {},
   "outputs": [],
   "source": []
  }
 ],
 "metadata": {
  "kernelspec": {
   "display_name": "Python 3 (ipykernel)",
   "language": "python",
   "name": "python3"
  },
  "language_info": {
   "codemirror_mode": {
    "name": "ipython",
    "version": 3
   },
   "file_extension": ".py",
   "mimetype": "text/x-python",
   "name": "python",
   "nbconvert_exporter": "python",
   "pygments_lexer": "ipython3",
   "version": "3.9.13"
  }
 },
 "nbformat": 4,
 "nbformat_minor": 5
}
